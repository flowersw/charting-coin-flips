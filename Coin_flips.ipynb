{
 "cells": [
  {
   "cell_type": "code",
   "execution_count": 817,
   "metadata": {
    "collapsed": false
   },
   "outputs": [],
   "source": [
    "import random, matplotlib.pyplot as plt, seaborn, math, statistics"
   ]
  },
  {
   "cell_type": "code",
   "execution_count": 759,
   "metadata": {
    "collapsed": true
   },
   "outputs": [],
   "source": [
    "%matplotlib inline"
   ]
  },
  {
   "cell_type": "code",
   "execution_count": 760,
   "metadata": {
    "collapsed": true
   },
   "outputs": [],
   "source": [
    "n = 1000"
   ]
  },
  {
   "cell_type": "code",
   "execution_count": 761,
   "metadata": {
    "collapsed": true
   },
   "outputs": [],
   "source": [
    "heads_or_tails = [0,1]\n",
    "flip_count_tails = []\n",
    "flip_count_heads = []\n",
    "def flip(n):\n",
    "    for _ in range(n):\n",
    "        choice = random.choice(heads_or_tails)\n",
    "        if choice == 0:\n",
    "            flip_count_heads.append(0)\n",
    "            flip_count_tails.append(1)\n",
    "        else:\n",
    "            flip_count_heads.append(1)\n",
    "            flip_count_tails.append(0)\n",
    "        "
   ]
  },
  {
   "cell_type": "code",
   "execution_count": 762,
   "metadata": {
    "collapsed": false
   },
   "outputs": [],
   "source": [
    "flip(n)"
   ]
  },
  {
   "cell_type": "code",
   "execution_count": 763,
   "metadata": {
    "collapsed": true
   },
   "outputs": [],
   "source": [
    "count_heads = []"
   ]
  },
  {
   "cell_type": "code",
   "execution_count": 764,
   "metadata": {
    "collapsed": true
   },
   "outputs": [],
   "source": [
    "count_tails = []"
   ]
  },
  {
   "cell_type": "code",
   "execution_count": 765,
   "metadata": {
    "collapsed": false
   },
   "outputs": [],
   "source": [
    "for i in range(math.floor(math.log2(n))):\n",
    "    count_tails.append(sum(flip_count_tails[:2**i]))"
   ]
  },
  {
   "cell_type": "code",
   "execution_count": 766,
   "metadata": {
    "collapsed": false
   },
   "outputs": [],
   "source": [
    "for i in range(math.floor(math.log2(n))):\n",
    "    count_heads.append(sum(flip_count_heads[:2**i]))"
   ]
  },
  {
   "cell_type": "code",
   "execution_count": 767,
   "metadata": {
    "collapsed": true
   },
   "outputs": [],
   "source": [
    "count_heads.append(sum(flip_count_heads))"
   ]
  },
  {
   "cell_type": "code",
   "execution_count": 768,
   "metadata": {
    "collapsed": true
   },
   "outputs": [],
   "source": [
    "count_tails.append(sum(flip_count_tails))"
   ]
  },
  {
   "cell_type": "code",
   "execution_count": 769,
   "metadata": {
    "collapsed": false
   },
   "outputs": [
    {
     "data": {
      "text/plain": [
       "[0, 1, 3, 5, 9, 16, 28, 64, 129, 503]"
      ]
     },
     "execution_count": 769,
     "metadata": {},
     "output_type": "execute_result"
    }
   ],
   "source": [
    "count_heads"
   ]
  },
  {
   "cell_type": "code",
   "execution_count": 770,
   "metadata": {
    "collapsed": false
   },
   "outputs": [
    {
     "data": {
      "text/plain": [
       "[1, 1, 1, 3, 7, 16, 36, 64, 127, 497]"
      ]
     },
     "execution_count": 770,
     "metadata": {},
     "output_type": "execute_result"
    }
   ],
   "source": [
    "count_tails"
   ]
  },
  {
   "cell_type": "code",
   "execution_count": 771,
   "metadata": {
    "collapsed": true
   },
   "outputs": [],
   "source": [
    "difference = []"
   ]
  },
  {
   "cell_type": "code",
   "execution_count": 772,
   "metadata": {
    "collapsed": false
   },
   "outputs": [],
   "source": [
    "for i in range(len(count_heads)):\n",
    "    difference.append(count_heads[i]-count_tails[i])"
   ]
  },
  {
   "cell_type": "code",
   "execution_count": 773,
   "metadata": {
    "collapsed": false
   },
   "outputs": [
    {
     "data": {
      "text/plain": [
       "[-1, 0, 2, 2, 2, 0, -8, 0, 2, 6]"
      ]
     },
     "execution_count": 773,
     "metadata": {},
     "output_type": "execute_result"
    }
   ],
   "source": [
    "difference"
   ]
  },
  {
   "cell_type": "code",
   "execution_count": 774,
   "metadata": {
    "collapsed": false
   },
   "outputs": [],
   "source": [
    "x_plot = [i for i in range(1,len(count_tails))]\n",
    "x_plot.append(\"last value\")"
   ]
  },
  {
   "cell_type": "code",
   "execution_count": 775,
   "metadata": {
    "collapsed": false
   },
   "outputs": [
    {
     "data": {
      "text/plain": [
       "[1, 2, 3, 4, 5, 6, 7, 8, 9, 'last value']"
      ]
     },
     "execution_count": 775,
     "metadata": {},
     "output_type": "execute_result"
    }
   ],
   "source": [
    "x_plot"
   ]
  },
  {
   "cell_type": "code",
   "execution_count": 776,
   "metadata": {
    "collapsed": false
   },
   "outputs": [
    {
     "data": {
      "image/png": "[encoded data removed]",
      "text/plain": [
       "<matplotlib.figure.Figure at 0x112ed8e10>"
      ]
     },
     "metadata": {},
     "output_type": "display_data"
    }
   ],
   "source": [
    "x1 = x_plot\n",
    "y1 = difference\n",
    "plt.plot(y1)\n",
    "plt.xticks(range(len(x_plot)), x_plot)\n",
    "plt.xlabel(\"2**i points\")\n",
    "plt.ylabel(\"Difference\")\n",
    "plt.title(\"Difference between Heads and Tails\")\n",
    "plt.show()"
   ]
  },
  {
   "cell_type": "code",
   "execution_count": 777,
   "metadata": {
    "collapsed": false
   },
   "outputs": [
    {
     "data": {
      "image/png": "[encoded data removed]",
      "text/plain": [
       "<matplotlib.figure.Figure at 0x112ed8390>"
      ]
     },
     "metadata": {},
     "output_type": "display_data"
    }
   ],
   "source": [
    "plt.scatter(range(len(x_plot)),difference)\n",
    "plt.xscale('log')\n",
    "plt.show()"
   ]
  },
  {
   "cell_type": "code",
   "execution_count": 778,
   "metadata": {
    "collapsed": true
   },
   "outputs": [],
   "source": [
    "ratio = []"
   ]
  },
  {
   "cell_type": "code",
   "execution_count": 779,
   "metadata": {
    "collapsed": false,
    "scrolled": true
   },
   "outputs": [],
   "source": [
    "for i in range(len(count_heads)):\n",
    "    try:\n",
    "        ratio.append(count_heads[i]/count_tails[i])\n",
    "    except ZeroDivisionError:\n",
    "        ratio.append(1)"
   ]
  },
  {
   "cell_type": "code",
   "execution_count": 780,
   "metadata": {
    "collapsed": false
   },
   "outputs": [
    {
     "data": {
      "text/plain": [
       "[0.0,\n",
       " 1.0,\n",
       " 3.0,\n",
       " 1.6666666666666667,\n",
       " 1.2857142857142858,\n",
       " 1.0,\n",
       " 0.7777777777777778,\n",
       " 1.0,\n",
       " 1.015748031496063,\n",
       " 1.012072434607646]"
      ]
     },
     "execution_count": 780,
     "metadata": {},
     "output_type": "execute_result"
    }
   ],
   "source": [
    "ratio"
   ]
  },
  {
   "cell_type": "code",
   "execution_count": 781,
   "metadata": {
    "collapsed": false
   },
   "outputs": [
    {
     "data": {
      "image/png": "[encoded data removed]",
      "text/plain": [
       "<matplotlib.figure.Figure at 0x10f744f60>"
      ]
     },
     "metadata": {},
     "output_type": "display_data"
    }
   ],
   "source": [
    "x1 = x_plot\n",
    "y1 = ratio\n",
    "plt.plot(y1)\n",
    "plt.xticks(range(len(x_plot)), x_plot)\n",
    "plt.xlabel(\"2**i points\")\n",
    "plt.ylabel(\"Ratio\")\n",
    "plt.title(\"Ratio between Heads and Tails\")\n",
    "plt.show()"
   ]
  },
  {
   "cell_type": "code",
   "execution_count": 782,
   "metadata": {
    "collapsed": false
   },
   "outputs": [
    {
     "data": {
      "image/png": "[encoded data removed]",
      "text/plain": [
       "<matplotlib.figure.Figure at 0x10f744b70>"
      ]
     },
     "metadata": {},
     "output_type": "display_data"
    }
   ],
   "source": [
    "plt.scatter(range(len(x_plot)),ratio)\n",
    "plt.xscale('log')\n",
    "plt.show()"
   ]
  },
  {
   "cell_type": "code",
   "execution_count": 783,
   "metadata": {
    "collapsed": true
   },
   "outputs": [],
   "source": [
    "\n",
    "def flip_n(n):\n",
    "    for _ in range(n):\n",
    "        choice = random.choice(heads_or_tails)\n",
    "        if choice == 0:\n",
    "            head_list_i.append(0)\n",
    "            tail_list_i.append(1)\n",
    "        else:\n",
    "            head_list_i.append(1)\n",
    "            tail_list_i.append(0)"
   ]
  },
  {
   "cell_type": "code",
   "execution_count": 784,
   "metadata": {
    "collapsed": true
   },
   "outputs": [],
   "source": [
    "list_of_trials_heads = []\n",
    "list_of_trials_tails = []\n",
    "n = 2**16\n",
    "for i in range(20):\n",
    "    head_list_i = []\n",
    "    tail_list_i = []\n",
    "    \n",
    "    flip_n(n)\n",
    "    \n",
    "    list_of_trials_heads.append(head_list_i)\n",
    "    list_of_trials_tails.append(tail_list_i)\n",
    "    "
   ]
  },
  {
   "cell_type": "code",
   "execution_count": 793,
   "metadata": {
    "collapsed": true
   },
   "outputs": [],
   "source": [
    "mean_ratios = []\n",
    "for list_number in range(len(list_of_trials_heads)):\n",
    "    for i in range(math.floor(math.log2(n))):\n",
    "        try:\n",
    "            mean_ratios.append(sum(list_of_trials_heads[list_number][:2**i])/sum(list_of_trials_tails[list_number][:2**i]))\n",
    "        except ZeroDivisionError:\n",
    "            mean_ratios.append(1)"
   ]
  },
  {
   "cell_type": "code",
   "execution_count": 821,
   "metadata": {
    "collapsed": false
   },
   "outputs": [],
   "source": [
    "#I don't think this is actually correct. It's taking the average within each list of 16 ratios, \n",
    "#Not, taking the ith element from each list of 16 ratios and averaging them\n",
    "ratio_list = []\n",
    "for i in range(len(list_of_trials_heads)):\n",
    "    ratio_list.append(sum(mean_ratios[math.floor(math.log2(n))*i:math.floor(math.log2(n))*(i+1)])/math.floor(math.log2(n)))"
   ]
  },
  {
   "cell_type": "code",
   "execution_count": 822,
   "metadata": {
    "collapsed": false
   },
   "outputs": [],
   "source": [
    "#This is closer to being correct, but couldn't quite get it\n",
    "#ratio_list = []\n",
    "#for i in range(len(list_of_trials_heads)):\n",
    "#    for item in range(math.floor(math.log2(n))):\n",
    "#        ratio_list.append(statistics.mean(mean_ratios[math.floor(math.log2(n))*i:math.floor(math.log2(n))*(i+1)][item]))/math.floor(math.log2(n))\n",
    "                          \n"
   ]
  },
  {
   "cell_type": "code",
   "execution_count": 823,
   "metadata": {
    "collapsed": false
   },
   "outputs": [
    {
     "data": {
      "text/plain": [
       "20"
      ]
     },
     "execution_count": 823,
     "metadata": {},
     "output_type": "execute_result"
    }
   ],
   "source": [
    "len(ratio_list)\n",
    "       "
   ]
  },
  {
   "cell_type": "code",
   "execution_count": 824,
   "metadata": {
    "collapsed": false
   },
   "outputs": [
    {
     "data": {
      "image/png": "[encoded data removed]",
      "text/plain": [
       "<matplotlib.figure.Figure at 0x10df3f0b8>"
      ]
     },
     "metadata": {},
     "output_type": "display_data"
    }
   ],
   "source": [
    "plt.scatter(range(len(ratio_list)),ratio_list)\n",
    "plt.xscale('log')\n",
    "plt.show()"
   ]
  },
  {
   "cell_type": "code",
   "execution_count": 832,
   "metadata": {
    "collapsed": false
   },
   "outputs": [],
   "source": [
    "stdev_list = []\n",
    "for i in range(len(list_of_trials_heads)):\n",
    "    stdev_list.append(statistics.stdev(mean_ratios[math.floor(math.log2(n))*i:math.floor(math.log2(n))*(i+1)])/math.floor(math.log2(n)))"
   ]
  },
  {
   "cell_type": "code",
   "execution_count": 833,
   "metadata": {
    "collapsed": false
   },
   "outputs": [
    {
     "data": {
      "text/plain": [
       "[0.03303158807347358,\n",
       " 0.01423239689865266,\n",
       " 0.023672134049132963,\n",
       " 0.049984438653938625,\n",
       " 0.021543651657298754,\n",
       " 0.018769839009678,\n",
       " 0.03270782371070654,\n",
       " 0.020350585245795246,\n",
       " 0.017948273742023516,\n",
       " 0.021192659664759538,\n",
       " 0.0378042625046624,\n",
       " 0.02523949768450468,\n",
       " 0.10851829724186983,\n",
       " 0.09788591977358155,\n",
       " 0.0986878038564513,\n",
       " 0.0114020912628792,\n",
       " 0.018108491948035262,\n",
       " 0.025767126365027742,\n",
       " 0.008503352432498414,\n",
       " 0.03755888694732502]"
      ]
     },
     "execution_count": 833,
     "metadata": {},
     "output_type": "execute_result"
    }
   ],
   "source": [
    "stdev_list\n"
   ]
  },
  {
   "cell_type": "code",
   "execution_count": 835,
   "metadata": {
    "collapsed": false
   },
   "outputs": [
    {
     "data": {
      "image/png": "[encoded data removed]",
      "text/plain": [
       "<matplotlib.figure.Figure at 0x10df248d0>"
      ]
     },
     "metadata": {},
     "output_type": "display_data"
    }
   ],
   "source": [
    "plt.scatter(range(len(ratio_list)),stdev_list)\n",
    "plt.xscale('log')\n",
    "plt.show()"
   ]
  },
  {
   "cell_type": "code",
   "execution_count": null,
   "metadata": {
    "collapsed": false
   },
   "outputs": [],
   "source": [
    "# As noted above, I don't think these are correct. It is data, but not the desired data\n"
   ]
  },
  {
   "cell_type": "code",
   "execution_count": 837,
   "metadata": {
    "collapsed": true
   },
   "outputs": [],
   "source": [
    "list_of_trials_heads = []\n",
    "list_of_trials_tails = []\n",
    "n = 100000\n",
    "for i in range(100):\n",
    "    head_list_i = []\n",
    "    tail_list_i = []\n",
    "    \n",
    "    flip_n(n)\n",
    "    \n",
    "    list_of_trials_heads.append(head_list_i)\n",
    "    list_of_trials_tails.append(tail_list_i)"
   ]
  },
  {
   "cell_type": "code",
   "execution_count": null,
   "metadata": {
    "collapsed": false
   },
   "outputs": [],
   "source": [
    "\n"
   ]
  },
  {
   "cell_type": "code",
   "execution_count": null,
   "metadata": {
    "collapsed": true
   },
   "outputs": [],
   "source": []
  },
  {
   "cell_type": "code",
   "execution_count": null,
   "metadata": {
    "collapsed": true
   },
   "outputs": [],
   "source": [
    "ratio_list = []\n",
    "for i in range(len(list_of_trials_heads)):\n",
    "    ratio_list.append(sum(mean_ratios[math.floor(math.log2(n))*i:math.floor(math.log2(n))*(i+1)])/math.floor(math.log2(n)))\n"
   ]
  },
  {
   "cell_type": "code",
   "execution_count": 841,
   "metadata": {
    "collapsed": false
   },
   "outputs": [
    {
     "data": {
      "image/png": "[encoded data removed]",
      "text/plain": [
       "<matplotlib.figure.Figure at 0x111a4fd30>"
      ]
     },
     "metadata": {},
     "output_type": "display_data"
    }
   ],
   "source": [
    "plt.hist(ratio_list, bins=25)\n",
    "plt.xlabel(\"number\")\n",
    "plt.ylabel(\"frequency\")\n",
    "plt.title(\"Heads to total number of tosses\")\n",
    "plt.show()"
   ]
  },
  {
   "cell_type": "code",
   "execution_count": 843,
   "metadata": {
    "collapsed": false
   },
   "outputs": [],
   "source": [
    "list_of_trials_heads = []\n",
    "list_of_trials_tails = []\n",
    "n = 100000\n",
    "for i in range(1000):\n",
    "    head_list_i = []\n",
    "    tail_list_i = []\n",
    "    \n",
    "    flip_n(n)\n",
    "    \n",
    "    list_of_trials_heads.append(head_list_i)\n",
    "    list_of_trials_tails.append(tail_list_i)"
   ]
  },
  {
   "cell_type": "code",
   "execution_count": 845,
   "metadata": {
    "collapsed": true
   },
   "outputs": [],
   "source": [
    "ratio_list1 = []\n",
    "for i in range(len(list_of_trials_heads)):\n",
    "    ratio_list1.append(sum(mean_ratios[math.floor(math.log2(n))*i:math.floor(math.log2(n))*(i+1)])/math.floor(math.log2(n)))\n"
   ]
  },
  {
   "cell_type": "code",
   "execution_count": 846,
   "metadata": {
    "collapsed": false
   },
   "outputs": [
    {
     "data": {
      "image/png": "[encoded data removed]",
      "text/plain": [
       "<matplotlib.figure.Figure at 0x113522860>"
      ]
     },
     "metadata": {},
     "output_type": "display_data"
    }
   ],
   "source": [
    "plt.hist(ratio_list1, bins=25)\n",
    "plt.xlabel(\"number\")\n",
    "plt.ylabel(\"frequency\")\n",
    "plt.title(\"Heads to total number of tosses\")\n",
    "plt.show()"
   ]
  },
  {
   "cell_type": "code",
   "execution_count": 847,
   "metadata": {
    "collapsed": false
   },
   "outputs": [
    {
     "data": {
      "image/png": "[encoded data removed]",
      "text/plain": [
       "<matplotlib.figure.Figure at 0x113745cf8>"
      ]
     },
     "metadata": {},
     "output_type": "display_data"
    }
   ],
   "source": [
    "group1 = ratio_list\n",
    "group2 = ratio_list1\n",
    "\n",
    "\n",
    "plt.boxplot([group1, group2])\n",
    "ymin, ymax = plt.ylim()\n",
    "plt.ylim(ymin - 30, ymax + 30)\n",
    "plt.title(\"# of heads vs tosses\")\n",
    "plt.ylabel(\"ratio\")\n",
    "plt.xticks(range(1,4), [\"Group 1\", \"Group 2\"])\n",
    "plt.show()"
   ]
  },
  {
   "cell_type": "code",
   "execution_count": null,
   "metadata": {
    "collapsed": true
   },
   "outputs": [],
   "source": []
  }
 ],
 "metadata": {
  "kernelspec": {
   "display_name": "Python 3",
   "language": "python",
   "name": "python3"
  },
  "language_info": {
   "codemirror_mode": {
    "name": "ipython",
    "version": 3
   },
   "file_extension": ".py",
   "mimetype": "text/x-python",
   "name": "python",
   "nbconvert_exporter": "python",
   "pygments_lexer": "ipython3",
   "version": "3.4.3"
  }
 },
 "nbformat": 4,
 "nbformat_minor": 0
}
